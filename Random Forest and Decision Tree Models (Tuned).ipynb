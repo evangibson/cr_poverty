{
 "cells": [
  {
   "cell_type": "code",
   "execution_count": 29,
   "metadata": {},
   "outputs": [],
   "source": [
    "##Import necessary libraries\n",
    "import pandas as pd  \n",
    "import numpy as np  \n",
    "import matplotlib.pyplot as plt \n",
    "from sklearn.model_selection import train_test_split, RandomizedSearchCV\n",
    "from sklearn.ensemble import RandomForestClassifier \n",
    "from sklearn.impute import SimpleImputer\n",
    "from sklearn.tree import export_graphviz, DecisionTreeClassifier\n",
    "from sklearn import metrics\n",
    "from sklearn.metrics import accuracy_score, f1_score, confusion_matrix\n",
    "from pprint import pprint\n",
    "import seaborn as sns\n",
    "from subprocess import call"
   ]
  },
  {
   "cell_type": "code",
   "execution_count": 2,
   "metadata": {},
   "outputs": [],
   "source": [
    "#import training and test dataframes using pandas\n",
    "\n",
    "df_train = pd.read_csv(\"..path\\\\to\\\\train.csv\")\n",
    "df_test = pd.read_csv(\"..path\\\\to\\\\test.csv\")"
   ]
  },
  {
   "cell_type": "code",
   "execution_count": 3,
   "metadata": {},
   "outputs": [],
   "source": [
    "# Feature Engineering\n",
    "\n",
    "#We need to deal with the edjefe and edjefa columns because they contain numerical values and strings.\n",
    "# If a person is a HH, he or she contains a \"yes\" or \"no\" value\n",
    "cols = ['edjefe', 'edjefa']\n",
    "df_train[cols] = df_train[cols].replace({'no': 0, 'yes':1}).astype(float)\n",
    "df_test[cols] = df_test[cols].replace({'no': 0, 'yes':1}).astype(float)"
   ]
  },
  {
   "cell_type": "code",
   "execution_count": 4,
   "metadata": {},
   "outputs": [],
   "source": [
    "# Feature Engineering\n",
    "\n",
    "#This is to fix a data error\n",
    "df_train['roof_waste_material'] = np.nan\n",
    "df_test['roof_waste_material'] = np.nan\n",
    "df_train['electricity_other'] = np.nan\n",
    "df_test['electricity_other'] = np.nan\n",
    "\n",
    "def fill_roof_exception(x):\n",
    "    if (x['techozinc'] == 0) and (x['techoentrepiso'] == 0) and (x['techocane'] == 0) and (x['techootro'] == 0):\n",
    "        return 1\n",
    "    else:\n",
    "        return 0\n",
    "    \n",
    "def fill_no_electricity(x):\n",
    "    if (x['public'] == 0) and (x['planpri'] == 0) and (x['noelec'] == 0) and (x['coopele'] == 0):\n",
    "        return 1\n",
    "    else:\n",
    "        return 0"
   ]
  },
  {
   "cell_type": "code",
   "execution_count": 5,
   "metadata": {},
   "outputs": [],
   "source": [
    "# Feature Engineering\n",
    "\n",
    "#Continued error correction from dataset\n",
    "\n",
    "df_train['roof_waste_material'] = df_train.apply(lambda x : fill_roof_exception(x),axis=1)\n",
    "df_test['roof_waste_material'] = df_test.apply(lambda x : fill_roof_exception(x),axis=1)\n",
    "df_train['electricity_other'] = df_train.apply(lambda x : fill_no_electricity(x),axis=1)\n",
    "df_test['electricity_other'] = df_test.apply(lambda x : fill_no_electricity(x),axis=1)"
   ]
  },
  {
   "cell_type": "code",
   "execution_count": 6,
   "metadata": {},
   "outputs": [],
   "source": [
    "# Continued feature engineering\n",
    "\n",
    "# This section details creating a variety of features from our already provided features\n",
    "\n",
    "# Most of these methods deal with creating HH-wide variables dealing with proportions of certain features to others\n",
    "# For the most part, these are simple algebraic expressions\n",
    "\n",
    "df_train['adult'] = df_train['hogar_adul'] - df_train['hogar_mayor']\n",
    "\n",
    "df_train['dependency_count'] = df_train['hogar_nin'] + df_train['hogar_mayor']\n",
    "\n",
    "df_train['dependency'] = df_train['dependency_count'] / df_train['adult']\n",
    "\n",
    "df_train['child_percent'] = df_train['hogar_nin']/df_train['hogar_total']\n",
    "\n",
    "df_train['elder_percent'] = df_train['hogar_mayor']/df_train['hogar_total']\n",
    "\n",
    "df_train['adult_percent'] = df_train['hogar_adul']/df_train['hogar_total']\n",
    "\n",
    "df_test['adult'] = df_test['hogar_adul'] - df_test['hogar_mayor']\n",
    "\n",
    "df_test['dependency_count'] = df_test['hogar_nin'] + df_test['hogar_mayor']\n",
    "\n",
    "df_test['dependency'] = df_test['dependency_count'] / df_test['adult']\n",
    "\n",
    "df_test['child_percent'] = df_test['hogar_nin']/df_test['hogar_total']\n",
    "\n",
    "df_test['elder_percent'] = df_test['hogar_mayor']/df_test['hogar_total']\n",
    "\n",
    "df_test['adult_percent'] = df_test['hogar_adul']/df_test['hogar_total']\n",
    "\n",
    "df_train['rent_per_adult'] = df_train['v2a1']/df_train['hogar_adul']\n",
    "\n",
    "df_train['rent_per_person'] = df_train['v2a1']/df_train['hhsize']\n",
    "\n",
    "df_test['rent_per_adult'] = df_test['v2a1']/df_test['hogar_adul']\n",
    "\n",
    "df_test['rent_per_person'] = df_test['v2a1']/df_test['hhsize']\n",
    "\n",
    "df_train['overcrowding_room_and_bedroom'] = (df_train['hacdor'] + df_train['hacapo'])/2\n",
    "\n",
    "df_test['overcrowding_room_and_bedroom'] = (df_test['hacdor'] + df_test['hacapo'])/2\n",
    "\n",
    "df_train['no_appliances'] = df_train['refrig'] + df_train['computer'] + df_train['television']\n",
    "\n",
    "df_test['no_appliances'] = df_test['refrig'] + df_test['computer'] + df_test['television']\n",
    "\n",
    "df_train['r4h1_percent_in_male'] = df_train['r4h1'] / df_train['r4h3']\n",
    "\n",
    "df_train['r4m1_percent_in_female'] = df_train['r4m1'] / df_train['r4m3']\n",
    "\n",
    "df_train['r4h1_percent_in_total'] = df_train['r4h1'] / df_train['hhsize']\n",
    "\n",
    "df_train['r4m1_percent_in_total'] = df_train['r4m1'] / df_train['hhsize']\n",
    "\n",
    "df_train['r4t1_percent_in_total'] = df_train['r4t1'] / df_train['hhsize']\n",
    "\n",
    "df_test['r4h1_percent_in_male'] = df_test['r4h1'] / df_test['r4h3']\n",
    "\n",
    "df_test['r4m1_percent_in_female'] = df_test['r4m1'] / df_test['r4m3']\n",
    "\n",
    "df_test['r4h1_percent_in_total'] = df_test['r4h1'] / df_test['hhsize']\n",
    "\n",
    "df_test['r4m1_percent_in_total'] = df_test['r4m1'] / df_test['hhsize']\n",
    "\n",
    "df_test['r4t1_percent_in_total'] = df_test['r4t1'] / df_test['hhsize']\n",
    "\n",
    "df_train['rent_per_room'] = df_train['v2a1']/df_train['rooms']\n",
    "\n",
    "df_train['bedroom_per_room'] = df_train['bedrooms']/df_train['rooms']\n",
    "\n",
    "df_train['elder_per_room'] = df_train['hogar_mayor']/df_train['rooms']\n",
    "\n",
    "df_train['adults_per_room'] = df_train['adult']/df_train['rooms']\n",
    "\n",
    "df_train['child_per_room'] = df_train['hogar_nin']/df_train['rooms']\n",
    "\n",
    "df_train['male_per_room'] = df_train['r4h3']/df_train['rooms']\n",
    "\n",
    "df_train['female_per_room'] = df_train['r4m3']/df_train['rooms']\n",
    "\n",
    "df_train['room_per_person_household'] = df_train['hhsize']/df_train['rooms']\n",
    "\n",
    "df_test['rent_per_room'] = df_test['v2a1']/df_test['rooms']\n",
    "\n",
    "df_test['bedroom_per_room'] = df_test['bedrooms']/df_test['rooms']\n",
    "\n",
    "df_test['elder_per_room'] = df_test['hogar_mayor']/df_test['rooms']\n",
    "\n",
    "df_test['adults_per_room'] = df_test['adult']/df_test['rooms']\n",
    "\n",
    "df_test['child_per_room'] = df_test['hogar_nin']/df_test['rooms']\n",
    "\n",
    "df_test['male_per_room'] = df_test['r4h3']/df_test['rooms']\n",
    "\n",
    "df_test['female_per_room'] = df_test['r4m3']/df_test['rooms']\n",
    "\n",
    "df_test['room_per_person_household'] = df_test['hhsize']/df_test['rooms']\n",
    "\n",
    "df_train['rent_per_bedroom'] = df_train['v2a1']/df_train['bedrooms']\n",
    "\n",
    "df_train['edler_per_bedroom'] = df_train['hogar_mayor']/df_train['bedrooms']\n",
    "\n",
    "df_train['adults_per_bedroom'] = df_train['adult']/df_train['bedrooms']\n",
    "\n",
    "df_train['child_per_bedroom'] = df_train['hogar_nin']/df_train['bedrooms']\n",
    "\n",
    "df_train['male_per_bedroom'] = df_train['r4h3']/df_train['bedrooms']\n",
    "\n",
    "df_train['female_per_bedroom'] = df_train['r4m3']/df_train['bedrooms']\n",
    "\n",
    "df_train['bedrooms_per_person_household'] = df_train['hhsize']/df_train['bedrooms']\n",
    "\n",
    "df_test['rent_per_bedroom'] = df_test['v2a1']/df_test['bedrooms']\n",
    "\n",
    "df_test['edler_per_bedroom'] = df_test['hogar_mayor']/df_test['bedrooms']\n",
    "\n",
    "df_test['adults_per_bedroom'] = df_test['adult']/df_test['bedrooms']\n",
    "\n",
    "df_test['child_per_bedroom'] = df_test['hogar_nin']/df_test['bedrooms']\n",
    "\n",
    "df_test['male_per_bedroom'] = df_test['r4h3']/df_test['bedrooms']\n",
    "\n",
    "df_test['female_per_bedroom'] = df_test['r4m3']/df_test['bedrooms']\n",
    "\n",
    "df_test['bedrooms_per_person_household'] = df_test['hhsize']/df_test['bedrooms']\n",
    "\n",
    "df_train['tablet_per_person_household'] = df_train['v18q1']/df_train['hhsize']\n",
    "\n",
    "df_train['phone_per_person_household'] = df_train['qmobilephone']/df_train['hhsize']\n",
    "\n",
    "df_test['tablet_per_person_household'] = df_test['v18q1']/df_test['hhsize']\n",
    "\n",
    "df_test['phone_per_person_household'] = df_test['qmobilephone']/df_test['hhsize']\n",
    "\n",
    "df_train['age_12_19'] = df_train['hogar_nin'] - df_train['r4t1']\n",
    "\n",
    "df_test['age_12_19'] = df_test['hogar_nin'] - df_test['r4t1']    \n",
    "\n",
    "df_train['escolari_age'] = df_train['escolari']/df_train['age']\n",
    "\n",
    "df_test['escolari_age'] = df_test['escolari']/df_test['age']\n",
    "\n",
    "df_train['rez_esc_escolari'] = df_train['rez_esc']/df_train['escolari']\n",
    "\n",
    "df_train['rez_esc_r4t1'] = df_train['rez_esc']/df_train['r4t1']\n",
    "\n",
    "df_train['rez_esc_r4t2'] = df_train['rez_esc']/df_train['r4t2']\n",
    "\n",
    "df_train['rez_esc_r4t3'] = df_train['rez_esc']/df_train['r4t3']\n",
    "\n",
    "df_train['rez_esc_age'] = df_train['rez_esc']/df_train['age']\n",
    "\n",
    "df_test['rez_esc_escolari'] = df_test['rez_esc']/df_test['escolari']\n",
    "\n",
    "df_test['rez_esc_r4t1'] = df_test['rez_esc']/df_test['r4t1']\n",
    "\n",
    "df_test['rez_esc_r4t2'] = df_test['rez_esc']/df_test['r4t2']\n",
    "\n",
    "df_test['rez_esc_r4t3'] = df_test['rez_esc']/df_test['r4t3']\n",
    "\n",
    "df_test['rez_esc_age'] = df_test['rez_esc']/df_test['age']"
   ]
  },
  {
   "cell_type": "code",
   "execution_count": 7,
   "metadata": {},
   "outputs": [],
   "source": [
    "#Remove useless feature to reduce dimension\n",
    "df_train.drop(columns=['agesq', 'SQBescolari', 'SQBage', 'SQBhogar_total', 'SQBedjefe', 'SQBhogar_nin', 'SQBovercrowding', 'SQBdependency', 'SQBmeaned'], inplace=True)\n",
    "\n",
    "#Because of the method I will use to make predictions on the test document, I will not need to apply the dropping of columns to derive the same insight "
   ]
  },
  {
   "cell_type": "code",
   "execution_count": 8,
   "metadata": {},
   "outputs": [
    {
     "data": {
      "text/html": [
       "<div>\n",
       "<style scoped>\n",
       "    .dataframe tbody tr th:only-of-type {\n",
       "        vertical-align: middle;\n",
       "    }\n",
       "\n",
       "    .dataframe tbody tr th {\n",
       "        vertical-align: top;\n",
       "    }\n",
       "\n",
       "    .dataframe thead th {\n",
       "        text-align: right;\n",
       "    }\n",
       "</style>\n",
       "<table border=\"1\" class=\"dataframe\">\n",
       "  <thead>\n",
       "    <tr style=\"text-align: right;\">\n",
       "      <th></th>\n",
       "      <th>v2a1</th>\n",
       "      <th>hacdor</th>\n",
       "      <th>rooms</th>\n",
       "      <th>hacapo</th>\n",
       "      <th>v14a</th>\n",
       "      <th>refrig</th>\n",
       "      <th>v18q</th>\n",
       "      <th>v18q1</th>\n",
       "      <th>r4h1</th>\n",
       "      <th>r4h2</th>\n",
       "      <th>...</th>\n",
       "      <th>bedrooms_per_person_household</th>\n",
       "      <th>tablet_per_person_household</th>\n",
       "      <th>phone_per_person_household</th>\n",
       "      <th>age_12_19</th>\n",
       "      <th>escolari_age</th>\n",
       "      <th>rez_esc_escolari</th>\n",
       "      <th>rez_esc_r4t1</th>\n",
       "      <th>rez_esc_r4t2</th>\n",
       "      <th>rez_esc_r4t3</th>\n",
       "      <th>rez_esc_age</th>\n",
       "    </tr>\n",
       "  </thead>\n",
       "  <tbody>\n",
       "    <tr>\n",
       "      <th>0</th>\n",
       "      <td>190000.0</td>\n",
       "      <td>0</td>\n",
       "      <td>3</td>\n",
       "      <td>0</td>\n",
       "      <td>1</td>\n",
       "      <td>1</td>\n",
       "      <td>0</td>\n",
       "      <td>NaN</td>\n",
       "      <td>0</td>\n",
       "      <td>1</td>\n",
       "      <td>...</td>\n",
       "      <td>1.000000</td>\n",
       "      <td>NaN</td>\n",
       "      <td>1.00</td>\n",
       "      <td>0</td>\n",
       "      <td>0.232558</td>\n",
       "      <td>NaN</td>\n",
       "      <td>NaN</td>\n",
       "      <td>NaN</td>\n",
       "      <td>NaN</td>\n",
       "      <td>NaN</td>\n",
       "    </tr>\n",
       "    <tr>\n",
       "      <th>1</th>\n",
       "      <td>135000.0</td>\n",
       "      <td>0</td>\n",
       "      <td>4</td>\n",
       "      <td>0</td>\n",
       "      <td>1</td>\n",
       "      <td>1</td>\n",
       "      <td>1</td>\n",
       "      <td>1.0</td>\n",
       "      <td>0</td>\n",
       "      <td>1</td>\n",
       "      <td>...</td>\n",
       "      <td>1.000000</td>\n",
       "      <td>1.00</td>\n",
       "      <td>1.00</td>\n",
       "      <td>0</td>\n",
       "      <td>0.179104</td>\n",
       "      <td>NaN</td>\n",
       "      <td>NaN</td>\n",
       "      <td>NaN</td>\n",
       "      <td>NaN</td>\n",
       "      <td>NaN</td>\n",
       "    </tr>\n",
       "    <tr>\n",
       "      <th>2</th>\n",
       "      <td>NaN</td>\n",
       "      <td>0</td>\n",
       "      <td>8</td>\n",
       "      <td>0</td>\n",
       "      <td>1</td>\n",
       "      <td>1</td>\n",
       "      <td>0</td>\n",
       "      <td>NaN</td>\n",
       "      <td>0</td>\n",
       "      <td>0</td>\n",
       "      <td>...</td>\n",
       "      <td>0.500000</td>\n",
       "      <td>NaN</td>\n",
       "      <td>0.00</td>\n",
       "      <td>0</td>\n",
       "      <td>0.119565</td>\n",
       "      <td>NaN</td>\n",
       "      <td>NaN</td>\n",
       "      <td>NaN</td>\n",
       "      <td>NaN</td>\n",
       "      <td>NaN</td>\n",
       "    </tr>\n",
       "    <tr>\n",
       "      <th>3</th>\n",
       "      <td>180000.0</td>\n",
       "      <td>0</td>\n",
       "      <td>5</td>\n",
       "      <td>0</td>\n",
       "      <td>1</td>\n",
       "      <td>1</td>\n",
       "      <td>1</td>\n",
       "      <td>1.0</td>\n",
       "      <td>0</td>\n",
       "      <td>2</td>\n",
       "      <td>...</td>\n",
       "      <td>1.333333</td>\n",
       "      <td>0.25</td>\n",
       "      <td>0.75</td>\n",
       "      <td>1</td>\n",
       "      <td>0.529412</td>\n",
       "      <td>0.111111</td>\n",
       "      <td>1.0</td>\n",
       "      <td>0.333333</td>\n",
       "      <td>0.25</td>\n",
       "      <td>0.058824</td>\n",
       "    </tr>\n",
       "    <tr>\n",
       "      <th>4</th>\n",
       "      <td>180000.0</td>\n",
       "      <td>0</td>\n",
       "      <td>5</td>\n",
       "      <td>0</td>\n",
       "      <td>1</td>\n",
       "      <td>1</td>\n",
       "      <td>1</td>\n",
       "      <td>1.0</td>\n",
       "      <td>0</td>\n",
       "      <td>2</td>\n",
       "      <td>...</td>\n",
       "      <td>1.333333</td>\n",
       "      <td>0.25</td>\n",
       "      <td>0.75</td>\n",
       "      <td>1</td>\n",
       "      <td>0.297297</td>\n",
       "      <td>NaN</td>\n",
       "      <td>NaN</td>\n",
       "      <td>NaN</td>\n",
       "      <td>NaN</td>\n",
       "      <td>NaN</td>\n",
       "    </tr>\n",
       "  </tbody>\n",
       "</table>\n",
       "<p>5 rows × 172 columns</p>\n",
       "</div>"
      ],
      "text/plain": [
       "       v2a1  hacdor  rooms  hacapo  v14a  refrig  v18q  v18q1  r4h1  r4h2  \\\n",
       "0  190000.0       0      3       0     1       1     0    NaN     0     1   \n",
       "1  135000.0       0      4       0     1       1     1    1.0     0     1   \n",
       "2       NaN       0      8       0     1       1     0    NaN     0     0   \n",
       "3  180000.0       0      5       0     1       1     1    1.0     0     2   \n",
       "4  180000.0       0      5       0     1       1     1    1.0     0     2   \n",
       "\n",
       "      ...       bedrooms_per_person_household  tablet_per_person_household  \\\n",
       "0     ...                            1.000000                          NaN   \n",
       "1     ...                            1.000000                         1.00   \n",
       "2     ...                            0.500000                          NaN   \n",
       "3     ...                            1.333333                         0.25   \n",
       "4     ...                            1.333333                         0.25   \n",
       "\n",
       "   phone_per_person_household  age_12_19  escolari_age  rez_esc_escolari  \\\n",
       "0                        1.00          0      0.232558               NaN   \n",
       "1                        1.00          0      0.179104               NaN   \n",
       "2                        0.00          0      0.119565               NaN   \n",
       "3                        0.75          1      0.529412          0.111111   \n",
       "4                        0.75          1      0.297297               NaN   \n",
       "\n",
       "   rez_esc_r4t1  rez_esc_r4t2  rez_esc_r4t3  rez_esc_age  \n",
       "0           NaN           NaN           NaN          NaN  \n",
       "1           NaN           NaN           NaN          NaN  \n",
       "2           NaN           NaN           NaN          NaN  \n",
       "3           1.0      0.333333          0.25     0.058824  \n",
       "4           NaN           NaN           NaN          NaN  \n",
       "\n",
       "[5 rows x 172 columns]"
      ]
     },
     "execution_count": 8,
     "metadata": {},
     "output_type": "execute_result"
    }
   ],
   "source": [
    "df_train_1 = df_train.select_dtypes(exclude=['object'])\n",
    "df_train_1.head()"
   ]
  },
  {
   "cell_type": "code",
   "execution_count": 9,
   "metadata": {},
   "outputs": [
    {
     "data": {
      "text/plain": [
       "(9557, 172)"
      ]
     },
     "execution_count": 9,
     "metadata": {},
     "output_type": "execute_result"
    }
   ],
   "source": [
    "df_train_1.shape"
   ]
  },
  {
   "cell_type": "code",
   "execution_count": 10,
   "metadata": {},
   "outputs": [],
   "source": [
    "df_train_1 = df_train_1.replace([np.inf, -np.inf], np.nan)"
   ]
  },
  {
   "cell_type": "code",
   "execution_count": 11,
   "metadata": {},
   "outputs": [],
   "source": [
    "#These columns contain NA values\n",
    "listo = df_train_1.columns[df_train_1.isna().any()].tolist()"
   ]
  },
  {
   "cell_type": "code",
   "execution_count": 12,
   "metadata": {},
   "outputs": [
    {
     "name": "stdout",
     "output_type": "stream",
     "text": [
      "v2a1\n",
      "v18q1\n",
      "rez_esc\n",
      "dependency\n",
      "meaneduc\n",
      "rent_per_adult\n",
      "rent_per_person\n",
      "r4h1_percent_in_male\n",
      "r4m1_percent_in_female\n",
      "rent_per_room\n",
      "rent_per_bedroom\n",
      "tablet_per_person_household\n",
      "escolari_age\n",
      "rez_esc_escolari\n",
      "rez_esc_r4t1\n",
      "rez_esc_r4t2\n",
      "rez_esc_r4t3\n",
      "rez_esc_age\n"
     ]
    }
   ],
   "source": [
    "#No, we don't need to make a \"for\" loop for this\n",
    "## However, this loop preempts my method for imputing\n",
    "for i in listo:\n",
    "    print(i)"
   ]
  },
  {
   "cell_type": "code",
   "execution_count": 13,
   "metadata": {},
   "outputs": [],
   "source": [
    "#Let's impute the NaN values with the means of their respective columns\n",
    "\n",
    "#We'll need this to ignore the warnings due to the df manipulation\n",
    "import warnings\n",
    "warnings.filterwarnings('ignore')\n",
    "\n",
    "imp=SimpleImputer(missing_values=np.nan, strategy=\"mean\")\n",
    "\n",
    "for i in listo:\n",
    "    imp.fit(df_train_1[[i]])\n",
    "    df_train_1[[i]] = imp.fit_transform(df_train_1[[i]])"
   ]
  },
  {
   "cell_type": "code",
   "execution_count": 14,
   "metadata": {},
   "outputs": [],
   "source": [
    "#Perform the same for the test data\n",
    "df_test = df_test.replace([np.inf, -np.inf], np.nan)\n",
    "\n",
    "#These columns contain NA values\n",
    "listo = df_test.columns[df_test.isna().any()].tolist()\n",
    "\n",
    "for i in listo:\n",
    "    imp.fit(df_test[[i]])\n",
    "    df_test[[i]] = imp.fit_transform(df_test[[i]])"
   ]
  },
  {
   "cell_type": "code",
   "execution_count": 15,
   "metadata": {},
   "outputs": [
    {
     "data": {
      "text/html": [
       "<div>\n",
       "<style scoped>\n",
       "    .dataframe tbody tr th:only-of-type {\n",
       "        vertical-align: middle;\n",
       "    }\n",
       "\n",
       "    .dataframe tbody tr th {\n",
       "        vertical-align: top;\n",
       "    }\n",
       "\n",
       "    .dataframe thead th {\n",
       "        text-align: right;\n",
       "    }\n",
       "</style>\n",
       "<table border=\"1\" class=\"dataframe\">\n",
       "  <thead>\n",
       "    <tr style=\"text-align: right;\">\n",
       "      <th></th>\n",
       "      <th>v2a1</th>\n",
       "      <th>hacdor</th>\n",
       "      <th>rooms</th>\n",
       "      <th>hacapo</th>\n",
       "      <th>v14a</th>\n",
       "      <th>refrig</th>\n",
       "      <th>v18q</th>\n",
       "      <th>v18q1</th>\n",
       "      <th>r4h1</th>\n",
       "      <th>r4h2</th>\n",
       "      <th>...</th>\n",
       "      <th>bedrooms_per_person_household</th>\n",
       "      <th>tablet_per_person_household</th>\n",
       "      <th>phone_per_person_household</th>\n",
       "      <th>age_12_19</th>\n",
       "      <th>escolari_age</th>\n",
       "      <th>rez_esc_escolari</th>\n",
       "      <th>rez_esc_r4t1</th>\n",
       "      <th>rez_esc_r4t2</th>\n",
       "      <th>rez_esc_r4t3</th>\n",
       "      <th>rez_esc_age</th>\n",
       "    </tr>\n",
       "  </thead>\n",
       "  <tbody>\n",
       "    <tr>\n",
       "      <th>0</th>\n",
       "      <td>190000.000000</td>\n",
       "      <td>0</td>\n",
       "      <td>3</td>\n",
       "      <td>0</td>\n",
       "      <td>1</td>\n",
       "      <td>1</td>\n",
       "      <td>0</td>\n",
       "      <td>1.404063</td>\n",
       "      <td>0</td>\n",
       "      <td>1</td>\n",
       "      <td>...</td>\n",
       "      <td>1.000000</td>\n",
       "      <td>0.402257</td>\n",
       "      <td>1.00</td>\n",
       "      <td>0</td>\n",
       "      <td>0.232558</td>\n",
       "      <td>0.101626</td>\n",
       "      <td>0.274752</td>\n",
       "      <td>0.133043</td>\n",
       "      <td>0.108679</td>\n",
       "      <td>0.031028</td>\n",
       "    </tr>\n",
       "    <tr>\n",
       "      <th>1</th>\n",
       "      <td>135000.000000</td>\n",
       "      <td>0</td>\n",
       "      <td>4</td>\n",
       "      <td>0</td>\n",
       "      <td>1</td>\n",
       "      <td>1</td>\n",
       "      <td>1</td>\n",
       "      <td>1.000000</td>\n",
       "      <td>0</td>\n",
       "      <td>1</td>\n",
       "      <td>...</td>\n",
       "      <td>1.000000</td>\n",
       "      <td>1.000000</td>\n",
       "      <td>1.00</td>\n",
       "      <td>0</td>\n",
       "      <td>0.179104</td>\n",
       "      <td>0.101626</td>\n",
       "      <td>0.274752</td>\n",
       "      <td>0.133043</td>\n",
       "      <td>0.108679</td>\n",
       "      <td>0.031028</td>\n",
       "    </tr>\n",
       "    <tr>\n",
       "      <th>2</th>\n",
       "      <td>165231.606971</td>\n",
       "      <td>0</td>\n",
       "      <td>8</td>\n",
       "      <td>0</td>\n",
       "      <td>1</td>\n",
       "      <td>1</td>\n",
       "      <td>0</td>\n",
       "      <td>1.404063</td>\n",
       "      <td>0</td>\n",
       "      <td>0</td>\n",
       "      <td>...</td>\n",
       "      <td>0.500000</td>\n",
       "      <td>0.402257</td>\n",
       "      <td>0.00</td>\n",
       "      <td>0</td>\n",
       "      <td>0.119565</td>\n",
       "      <td>0.101626</td>\n",
       "      <td>0.274752</td>\n",
       "      <td>0.133043</td>\n",
       "      <td>0.108679</td>\n",
       "      <td>0.031028</td>\n",
       "    </tr>\n",
       "    <tr>\n",
       "      <th>3</th>\n",
       "      <td>180000.000000</td>\n",
       "      <td>0</td>\n",
       "      <td>5</td>\n",
       "      <td>0</td>\n",
       "      <td>1</td>\n",
       "      <td>1</td>\n",
       "      <td>1</td>\n",
       "      <td>1.000000</td>\n",
       "      <td>0</td>\n",
       "      <td>2</td>\n",
       "      <td>...</td>\n",
       "      <td>1.333333</td>\n",
       "      <td>0.250000</td>\n",
       "      <td>0.75</td>\n",
       "      <td>1</td>\n",
       "      <td>0.529412</td>\n",
       "      <td>0.111111</td>\n",
       "      <td>1.000000</td>\n",
       "      <td>0.333333</td>\n",
       "      <td>0.250000</td>\n",
       "      <td>0.058824</td>\n",
       "    </tr>\n",
       "    <tr>\n",
       "      <th>4</th>\n",
       "      <td>180000.000000</td>\n",
       "      <td>0</td>\n",
       "      <td>5</td>\n",
       "      <td>0</td>\n",
       "      <td>1</td>\n",
       "      <td>1</td>\n",
       "      <td>1</td>\n",
       "      <td>1.000000</td>\n",
       "      <td>0</td>\n",
       "      <td>2</td>\n",
       "      <td>...</td>\n",
       "      <td>1.333333</td>\n",
       "      <td>0.250000</td>\n",
       "      <td>0.75</td>\n",
       "      <td>1</td>\n",
       "      <td>0.297297</td>\n",
       "      <td>0.101626</td>\n",
       "      <td>0.274752</td>\n",
       "      <td>0.133043</td>\n",
       "      <td>0.108679</td>\n",
       "      <td>0.031028</td>\n",
       "    </tr>\n",
       "  </tbody>\n",
       "</table>\n",
       "<p>5 rows × 172 columns</p>\n",
       "</div>"
      ],
      "text/plain": [
       "            v2a1  hacdor  rooms  hacapo  v14a  refrig  v18q     v18q1  r4h1  \\\n",
       "0  190000.000000       0      3       0     1       1     0  1.404063     0   \n",
       "1  135000.000000       0      4       0     1       1     1  1.000000     0   \n",
       "2  165231.606971       0      8       0     1       1     0  1.404063     0   \n",
       "3  180000.000000       0      5       0     1       1     1  1.000000     0   \n",
       "4  180000.000000       0      5       0     1       1     1  1.000000     0   \n",
       "\n",
       "   r4h2     ...       bedrooms_per_person_household  \\\n",
       "0     1     ...                            1.000000   \n",
       "1     1     ...                            1.000000   \n",
       "2     0     ...                            0.500000   \n",
       "3     2     ...                            1.333333   \n",
       "4     2     ...                            1.333333   \n",
       "\n",
       "   tablet_per_person_household  phone_per_person_household  age_12_19  \\\n",
       "0                     0.402257                        1.00          0   \n",
       "1                     1.000000                        1.00          0   \n",
       "2                     0.402257                        0.00          0   \n",
       "3                     0.250000                        0.75          1   \n",
       "4                     0.250000                        0.75          1   \n",
       "\n",
       "   escolari_age  rez_esc_escolari  rez_esc_r4t1  rez_esc_r4t2  rez_esc_r4t3  \\\n",
       "0      0.232558          0.101626      0.274752      0.133043      0.108679   \n",
       "1      0.179104          0.101626      0.274752      0.133043      0.108679   \n",
       "2      0.119565          0.101626      0.274752      0.133043      0.108679   \n",
       "3      0.529412          0.111111      1.000000      0.333333      0.250000   \n",
       "4      0.297297          0.101626      0.274752      0.133043      0.108679   \n",
       "\n",
       "   rez_esc_age  \n",
       "0     0.031028  \n",
       "1     0.031028  \n",
       "2     0.031028  \n",
       "3     0.058824  \n",
       "4     0.031028  \n",
       "\n",
       "[5 rows x 172 columns]"
      ]
     },
     "execution_count": 15,
     "metadata": {},
     "output_type": "execute_result"
    }
   ],
   "source": [
    "df_train_1.head()"
   ]
  },
  {
   "cell_type": "code",
   "execution_count": 16,
   "metadata": {},
   "outputs": [
    {
     "data": {
      "text/html": [
       "<div>\n",
       "<style scoped>\n",
       "    .dataframe tbody tr th:only-of-type {\n",
       "        vertical-align: middle;\n",
       "    }\n",
       "\n",
       "    .dataframe tbody tr th {\n",
       "        vertical-align: top;\n",
       "    }\n",
       "\n",
       "    .dataframe thead th {\n",
       "        text-align: right;\n",
       "    }\n",
       "</style>\n",
       "<table border=\"1\" class=\"dataframe\">\n",
       "  <thead>\n",
       "    <tr style=\"text-align: right;\">\n",
       "      <th></th>\n",
       "      <th>Id</th>\n",
       "      <th>v2a1</th>\n",
       "      <th>hacdor</th>\n",
       "      <th>rooms</th>\n",
       "      <th>hacapo</th>\n",
       "      <th>v14a</th>\n",
       "      <th>refrig</th>\n",
       "      <th>v18q</th>\n",
       "      <th>v18q1</th>\n",
       "      <th>r4h1</th>\n",
       "      <th>...</th>\n",
       "      <th>bedrooms_per_person_household</th>\n",
       "      <th>tablet_per_person_household</th>\n",
       "      <th>phone_per_person_household</th>\n",
       "      <th>age_12_19</th>\n",
       "      <th>escolari_age</th>\n",
       "      <th>rez_esc_escolari</th>\n",
       "      <th>rez_esc_r4t1</th>\n",
       "      <th>rez_esc_r4t2</th>\n",
       "      <th>rez_esc_r4t3</th>\n",
       "      <th>rez_esc_age</th>\n",
       "    </tr>\n",
       "  </thead>\n",
       "  <tbody>\n",
       "    <tr>\n",
       "      <th>0</th>\n",
       "      <td>ID_2f6873615</td>\n",
       "      <td>174872.554316</td>\n",
       "      <td>0</td>\n",
       "      <td>5</td>\n",
       "      <td>0</td>\n",
       "      <td>1</td>\n",
       "      <td>1</td>\n",
       "      <td>0</td>\n",
       "      <td>1.348517</td>\n",
       "      <td>1</td>\n",
       "      <td>...</td>\n",
       "      <td>1.5</td>\n",
       "      <td>0.369162</td>\n",
       "      <td>0.666667</td>\n",
       "      <td>0</td>\n",
       "      <td>0.000000</td>\n",
       "      <td>0.085934</td>\n",
       "      <td>0.261372</td>\n",
       "      <td>0.123951</td>\n",
       "      <td>0.098355</td>\n",
       "      <td>0.030434</td>\n",
       "    </tr>\n",
       "    <tr>\n",
       "      <th>1</th>\n",
       "      <td>ID_1c78846d2</td>\n",
       "      <td>174872.554316</td>\n",
       "      <td>0</td>\n",
       "      <td>5</td>\n",
       "      <td>0</td>\n",
       "      <td>1</td>\n",
       "      <td>1</td>\n",
       "      <td>0</td>\n",
       "      <td>1.348517</td>\n",
       "      <td>1</td>\n",
       "      <td>...</td>\n",
       "      <td>1.5</td>\n",
       "      <td>0.369162</td>\n",
       "      <td>0.666667</td>\n",
       "      <td>0</td>\n",
       "      <td>0.390244</td>\n",
       "      <td>0.085934</td>\n",
       "      <td>0.261372</td>\n",
       "      <td>0.123951</td>\n",
       "      <td>0.098355</td>\n",
       "      <td>0.030434</td>\n",
       "    </tr>\n",
       "    <tr>\n",
       "      <th>2</th>\n",
       "      <td>ID_e5442cf6a</td>\n",
       "      <td>174872.554316</td>\n",
       "      <td>0</td>\n",
       "      <td>5</td>\n",
       "      <td>0</td>\n",
       "      <td>1</td>\n",
       "      <td>1</td>\n",
       "      <td>0</td>\n",
       "      <td>1.348517</td>\n",
       "      <td>1</td>\n",
       "      <td>...</td>\n",
       "      <td>1.5</td>\n",
       "      <td>0.369162</td>\n",
       "      <td>0.666667</td>\n",
       "      <td>0</td>\n",
       "      <td>0.414634</td>\n",
       "      <td>0.085934</td>\n",
       "      <td>0.261372</td>\n",
       "      <td>0.123951</td>\n",
       "      <td>0.098355</td>\n",
       "      <td>0.030434</td>\n",
       "    </tr>\n",
       "    <tr>\n",
       "      <th>3</th>\n",
       "      <td>ID_a8db26a79</td>\n",
       "      <td>174872.554316</td>\n",
       "      <td>0</td>\n",
       "      <td>14</td>\n",
       "      <td>0</td>\n",
       "      <td>1</td>\n",
       "      <td>1</td>\n",
       "      <td>1</td>\n",
       "      <td>1.000000</td>\n",
       "      <td>0</td>\n",
       "      <td>...</td>\n",
       "      <td>1.0</td>\n",
       "      <td>1.000000</td>\n",
       "      <td>2.000000</td>\n",
       "      <td>0</td>\n",
       "      <td>0.271186</td>\n",
       "      <td>0.085934</td>\n",
       "      <td>0.261372</td>\n",
       "      <td>0.123951</td>\n",
       "      <td>0.098355</td>\n",
       "      <td>0.030434</td>\n",
       "    </tr>\n",
       "    <tr>\n",
       "      <th>4</th>\n",
       "      <td>ID_a62966799</td>\n",
       "      <td>175000.000000</td>\n",
       "      <td>0</td>\n",
       "      <td>4</td>\n",
       "      <td>0</td>\n",
       "      <td>1</td>\n",
       "      <td>1</td>\n",
       "      <td>1</td>\n",
       "      <td>1.000000</td>\n",
       "      <td>0</td>\n",
       "      <td>...</td>\n",
       "      <td>0.5</td>\n",
       "      <td>1.000000</td>\n",
       "      <td>1.000000</td>\n",
       "      <td>1</td>\n",
       "      <td>0.611111</td>\n",
       "      <td>0.085934</td>\n",
       "      <td>0.261372</td>\n",
       "      <td>0.123951</td>\n",
       "      <td>0.098355</td>\n",
       "      <td>0.030434</td>\n",
       "    </tr>\n",
       "  </tbody>\n",
       "</table>\n",
       "<p>5 rows × 182 columns</p>\n",
       "</div>"
      ],
      "text/plain": [
       "             Id           v2a1  hacdor  rooms  hacapo  v14a  refrig  v18q  \\\n",
       "0  ID_2f6873615  174872.554316       0      5       0     1       1     0   \n",
       "1  ID_1c78846d2  174872.554316       0      5       0     1       1     0   \n",
       "2  ID_e5442cf6a  174872.554316       0      5       0     1       1     0   \n",
       "3  ID_a8db26a79  174872.554316       0     14       0     1       1     1   \n",
       "4  ID_a62966799  175000.000000       0      4       0     1       1     1   \n",
       "\n",
       "      v18q1  r4h1     ...       bedrooms_per_person_household  \\\n",
       "0  1.348517     1     ...                                 1.5   \n",
       "1  1.348517     1     ...                                 1.5   \n",
       "2  1.348517     1     ...                                 1.5   \n",
       "3  1.000000     0     ...                                 1.0   \n",
       "4  1.000000     0     ...                                 0.5   \n",
       "\n",
       "   tablet_per_person_household  phone_per_person_household  age_12_19  \\\n",
       "0                     0.369162                    0.666667          0   \n",
       "1                     0.369162                    0.666667          0   \n",
       "2                     0.369162                    0.666667          0   \n",
       "3                     1.000000                    2.000000          0   \n",
       "4                     1.000000                    1.000000          1   \n",
       "\n",
       "   escolari_age  rez_esc_escolari  rez_esc_r4t1  rez_esc_r4t2  rez_esc_r4t3  \\\n",
       "0      0.000000          0.085934      0.261372      0.123951      0.098355   \n",
       "1      0.390244          0.085934      0.261372      0.123951      0.098355   \n",
       "2      0.414634          0.085934      0.261372      0.123951      0.098355   \n",
       "3      0.271186          0.085934      0.261372      0.123951      0.098355   \n",
       "4      0.611111          0.085934      0.261372      0.123951      0.098355   \n",
       "\n",
       "   rez_esc_age  \n",
       "0     0.030434  \n",
       "1     0.030434  \n",
       "2     0.030434  \n",
       "3     0.030434  \n",
       "4     0.030434  \n",
       "\n",
       "[5 rows x 182 columns]"
      ]
     },
     "execution_count": 16,
     "metadata": {},
     "output_type": "execute_result"
    }
   ],
   "source": [
    "df_test.head()"
   ]
  },
  {
   "cell_type": "code",
   "execution_count": 17,
   "metadata": {},
   "outputs": [],
   "source": [
    "# divide into attributes and labels\n",
    "X = df_train_1.drop('Target', axis=1)  \n",
    "y = df_train_1['Target'] "
   ]
  },
  {
   "cell_type": "code",
   "execution_count": 18,
   "metadata": {},
   "outputs": [],
   "source": [
    "#Split our training and validation data by the 80/20 method\n",
    "X_train, X_test, y_train, y_test = train_test_split(X, y, test_size=0.20)"
   ]
  },
  {
   "cell_type": "markdown",
   "metadata": {},
   "source": [
    "## Random Forest "
   ]
  },
  {
   "cell_type": "code",
   "execution_count": 19,
   "metadata": {},
   "outputs": [
    {
     "name": "stdout",
     "output_type": "stream",
     "text": [
      "Parameters currently in use:\n",
      "\n",
      "{'bootstrap': True,\n",
      " 'class_weight': None,\n",
      " 'criterion': 'gini',\n",
      " 'max_depth': None,\n",
      " 'max_features': 'auto',\n",
      " 'max_leaf_nodes': None,\n",
      " 'min_impurity_decrease': 0.0,\n",
      " 'min_impurity_split': None,\n",
      " 'min_samples_leaf': 1,\n",
      " 'min_samples_split': 2,\n",
      " 'min_weight_fraction_leaf': 0.0,\n",
      " 'n_estimators': 'warn',\n",
      " 'n_jobs': None,\n",
      " 'oob_score': False,\n",
      " 'random_state': 321,\n",
      " 'verbose': 0,\n",
      " 'warm_start': False}\n"
     ]
    }
   ],
   "source": [
    "# Building a random forest model\n",
    "rf_classifier = RandomForestClassifier(random_state=321)  \n",
    "\n",
    "#Let's see all of our parameters\n",
    "print('Parameters currently in use:\\n')\n",
    "pprint(rf_classifier.get_params())"
   ]
  },
  {
   "cell_type": "code",
   "execution_count": 20,
   "metadata": {},
   "outputs": [
    {
     "name": "stdout",
     "output_type": "stream",
     "text": [
      "{'bootstrap': [True, False],\n",
      " 'max_depth': [10, 24, 38, 52, 66, 80, 94, 108, 122, 136, 150, None],\n",
      " 'max_features': ['auto', 'sqrt'],\n",
      " 'min_samples_leaf': [1, 2, 4],\n",
      " 'min_samples_split': [2, 3, 5, 10],\n",
      " 'n_estimators': [200, 400, 600, 800, 1000, 1200, 1400, 1600, 1800, 2000]}\n"
     ]
    }
   ],
   "source": [
    "# Number of trees in random forest\n",
    "n_estimators = [int(x) for x in np.linspace(start = 200, stop = 2000, num = 10)]\n",
    "# Number of features to consider at every split\n",
    "max_features = ['auto', 'sqrt']\n",
    "# Maximum number of levels in tree\n",
    "max_depth = [int(x) for x in np.linspace(10, 150, num = 11)]\n",
    "max_depth.append(None)\n",
    "# Minimum number of samples required to split a node\n",
    "min_samples_split = [2, 3, 5, 10]\n",
    "# Minimum number of samples required at each leaf node\n",
    "min_samples_leaf = [1, 2, 4]\n",
    "# Method of selecting samples for training each tree\n",
    "bootstrap = [True, False]\n",
    "# Create the random grid\n",
    "random_grid = {'n_estimators': n_estimators,\n",
    "               'max_features': max_features,\n",
    "               'max_depth': max_depth,\n",
    "               'min_samples_split': min_samples_split,\n",
    "               'min_samples_leaf': min_samples_leaf,\n",
    "               'bootstrap': bootstrap}\n",
    "pprint(random_grid)"
   ]
  },
  {
   "cell_type": "code",
   "execution_count": 35,
   "metadata": {},
   "outputs": [],
   "source": [
    "rf = RandomForestClassifier(random_state=321)\n",
    "\n",
    "rf_random = RandomizedSearchCV(estimator = rf, param_distributions = random_grid, n_iter = 250, cv = 5, verbose=2, random_state=321, n_jobs = -1)"
   ]
  },
  {
   "cell_type": "code",
   "execution_count": 36,
   "metadata": {},
   "outputs": [
    {
     "name": "stdout",
     "output_type": "stream",
     "text": [
      "Fitting 5 folds for each of 250 candidates, totalling 1250 fits\n"
     ]
    },
    {
     "name": "stderr",
     "output_type": "stream",
     "text": [
      "[Parallel(n_jobs=-1)]: Using backend LokyBackend with 8 concurrent workers.\n",
      "[Parallel(n_jobs=-1)]: Done  25 tasks      | elapsed:  2.5min\n",
      "[Parallel(n_jobs=-1)]: Done 146 tasks      | elapsed: 11.1min\n",
      "[Parallel(n_jobs=-1)]: Done 349 tasks      | elapsed: 24.6min\n",
      "[Parallel(n_jobs=-1)]: Done 632 tasks      | elapsed: 42.2min\n",
      "[Parallel(n_jobs=-1)]: Done 997 tasks      | elapsed: 66.1min\n",
      "[Parallel(n_jobs=-1)]: Done 1250 out of 1250 | elapsed: 78.8min finished\n"
     ]
    },
    {
     "data": {
      "text/plain": [
       "RandomizedSearchCV(cv=5, error_score='raise-deprecating',\n",
       "          estimator=RandomForestClassifier(bootstrap=True, class_weight=None, criterion='gini',\n",
       "            max_depth=None, max_features='auto', max_leaf_nodes=None,\n",
       "            min_impurity_decrease=0.0, min_impurity_split=None,\n",
       "            min_samples_leaf=1, min_samples_split=2,\n",
       "            min_weight_fraction_leaf=0.0, n_estimators='warn', n_jobs=None,\n",
       "            oob_score=False, random_state=321, verbose=0, warm_start=False),\n",
       "          fit_params=None, iid='warn', n_iter=250, n_jobs=-1,\n",
       "          param_distributions={'n_estimators': [200, 400, 600, 800, 1000, 1200, 1400, 1600, 1800, 2000], 'max_features': ['auto', 'sqrt'], 'max_depth': [10, 24, 38, 52, 66, 80, 94, 108, 122, 136, 150, None], 'min_samples_split': [2, 3, 5, 10], 'min_samples_leaf': [1, 2, 4], 'bootstrap': [True, False]},\n",
       "          pre_dispatch='2*n_jobs', random_state=321, refit=True,\n",
       "          return_train_score='warn', scoring=None, verbose=2)"
      ]
     },
     "execution_count": 36,
     "metadata": {},
     "output_type": "execute_result"
    }
   ],
   "source": [
    "rf_random.fit(X_train, y_train)  "
   ]
  },
  {
   "cell_type": "code",
   "execution_count": 37,
   "metadata": {},
   "outputs": [
    {
     "name": "stdout",
     "output_type": "stream",
     "text": [
      "Accuracy is  95.7112970711297\n"
     ]
    }
   ],
   "source": [
    "y_pred = rf_random.predict(X_test)\n",
    "print(\"Accuracy is \", accuracy_score(y_test,y_pred)*100)"
   ]
  },
  {
   "cell_type": "code",
   "execution_count": 38,
   "metadata": {},
   "outputs": [
    {
     "name": "stdout",
     "output_type": "stream",
     "text": [
      "Macro F1 Score is  0.929885661895076\n",
      "Weighted F1 Score is  0.9564431171277852\n"
     ]
    }
   ],
   "source": [
    "print(\"Macro F1 Score is \", f1_score(y_test,y_pred, average ='macro'))\n",
    "print(\"Weighted F1 Score is \", f1_score(y_test,y_pred, average ='weighted'))"
   ]
  },
  {
   "cell_type": "code",
   "execution_count": 39,
   "metadata": {},
   "outputs": [
    {
     "data": {
      "text/plain": [
       "{'n_estimators': 1000,\n",
       " 'min_samples_split': 2,\n",
       " 'min_samples_leaf': 1,\n",
       " 'max_features': 'auto',\n",
       " 'max_depth': 122,\n",
       " 'bootstrap': False}"
      ]
     },
     "execution_count": 39,
     "metadata": {},
     "output_type": "execute_result"
    }
   ],
   "source": [
    "rf_random.best_params_"
   ]
  },
  {
   "cell_type": "code",
   "execution_count": 21,
   "metadata": {},
   "outputs": [],
   "source": [
    "#Ensure that we have the same paramters as are specified in the cell above\n",
    "classifier = RandomForestClassifier(n_jobs=-1,\n",
    "                                    min_samples_split = 2, \n",
    "                                    n_estimators = 1000, \n",
    "                                    min_samples_leaf = 1,\n",
    "                                    max_features='auto',\n",
    "                                    max_depth = 122,\n",
    "                                    bootstrap=False,\n",
    "                                    random_state=321)"
   ]
  },
  {
   "cell_type": "code",
   "execution_count": 22,
   "metadata": {},
   "outputs": [
    {
     "data": {
      "text/plain": [
       "RandomForestClassifier(bootstrap=False, class_weight=None, criterion='gini',\n",
       "            max_depth=122, max_features='auto', max_leaf_nodes=None,\n",
       "            min_impurity_decrease=0.0, min_impurity_split=None,\n",
       "            min_samples_leaf=1, min_samples_split=2,\n",
       "            min_weight_fraction_leaf=0.0, n_estimators=1000, n_jobs=-1,\n",
       "            oob_score=False, random_state=321, verbose=0, warm_start=False)"
      ]
     },
     "execution_count": 22,
     "metadata": {},
     "output_type": "execute_result"
    }
   ],
   "source": [
    "classifier.fit(X_train, y_train)  "
   ]
  },
  {
   "cell_type": "code",
   "execution_count": 42,
   "metadata": {},
   "outputs": [
    {
     "name": "stdout",
     "output_type": "stream",
     "text": [
      "Accuracy is  95.7112970711297\n"
     ]
    }
   ],
   "source": [
    "y_pred = classifier.predict(X_test)\n",
    "print(\"Accuracy is \", accuracy_score(y_test,y_pred)*100)"
   ]
  },
  {
   "cell_type": "code",
   "execution_count": 43,
   "metadata": {},
   "outputs": [
    {
     "name": "stdout",
     "output_type": "stream",
     "text": [
      "Macro F1 Score is  0.929885661895076\n",
      "Weighted F1 Score is  0.9564431171277852\n"
     ]
    }
   ],
   "source": [
    "y_pred = classifier.predict(X_test)\n",
    "print(\"Accuracy is \", accuracy_score(y_test,y_pred)*100)\n",
    "print(\"Macro F1 Score is \", f1_score(y_test,y_pred, average ='macro'))\n",
    "print(\"Weighted F1 Score is \", f1_score(y_test,y_pred, average ='weighted'))"
   ]
  },
  {
   "cell_type": "code",
   "execution_count": 44,
   "metadata": {},
   "outputs": [
    {
     "data": {
      "text/html": [
       "<div>\n",
       "<style scoped>\n",
       "    .dataframe tbody tr th:only-of-type {\n",
       "        vertical-align: middle;\n",
       "    }\n",
       "\n",
       "    .dataframe tbody tr th {\n",
       "        vertical-align: top;\n",
       "    }\n",
       "\n",
       "    .dataframe thead th {\n",
       "        text-align: right;\n",
       "    }\n",
       "</style>\n",
       "<table border=\"1\" class=\"dataframe\">\n",
       "  <thead>\n",
       "    <tr style=\"text-align: right;\">\n",
       "      <th></th>\n",
       "      <th>feature</th>\n",
       "      <th>importance</th>\n",
       "    </tr>\n",
       "  </thead>\n",
       "  <tbody>\n",
       "    <tr>\n",
       "      <th>0</th>\n",
       "      <td>v2a1</td>\n",
       "      <td>0.010192</td>\n",
       "    </tr>\n",
       "    <tr>\n",
       "      <th>1</th>\n",
       "      <td>hacdor</td>\n",
       "      <td>0.001077</td>\n",
       "    </tr>\n",
       "    <tr>\n",
       "      <th>2</th>\n",
       "      <td>rooms</td>\n",
       "      <td>0.012091</td>\n",
       "    </tr>\n",
       "    <tr>\n",
       "      <th>3</th>\n",
       "      <td>hacapo</td>\n",
       "      <td>0.000496</td>\n",
       "    </tr>\n",
       "    <tr>\n",
       "      <th>4</th>\n",
       "      <td>v14a</td>\n",
       "      <td>0.000530</td>\n",
       "    </tr>\n",
       "  </tbody>\n",
       "</table>\n",
       "</div>"
      ],
      "text/plain": [
       "  feature  importance\n",
       "0    v2a1    0.010192\n",
       "1  hacdor    0.001077\n",
       "2   rooms    0.012091\n",
       "3  hacapo    0.000496\n",
       "4    v14a    0.000530"
      ]
     },
     "execution_count": 44,
     "metadata": {},
     "output_type": "execute_result"
    }
   ],
   "source": [
    "# https://www.kaggle.com/willkoehrsen/a-complete-introduction-and-walkthrough \n",
    "feature_importances = pd.DataFrame({'feature': X_train.columns, 'importance': classifier.feature_importances_})\n",
    "feature_importances.head()"
   ]
  },
  {
   "cell_type": "code",
   "execution_count": 61,
   "metadata": {},
   "outputs": [],
   "source": [
    "#https://www.kaggle.com/willkoehrsen/a-complete-introduction-and-walkthrough\n",
    "def plot_feature_importances(df, n = 10, threshold = None):\n",
    "\n",
    "    plt.style.use('fivethirtyeight')\n",
    "    \n",
    "    # Sort features with most important at the head\n",
    "    df = df.sort_values('importance', ascending = False).reset_index(drop = True)\n",
    "    \n",
    "    # Normalize the feature importances to add up to one and calculate cumulative importance\n",
    "    df['importance_normalized'] = df['importance'] / df['importance'].sum()\n",
    "    df['cumulative_importance'] = np.cumsum(df['importance_normalized'])\n",
    "    \n",
    "    plt.rcParams['font.size'] = 12\n",
    "    \n",
    "    # Bar plot of n most important features\n",
    "    df.loc[:n, :].plot.barh(y = 'importance_normalized', \n",
    "                            x = 'feature', color = 'darkgreen', \n",
    "                            edgecolor = 'k', figsize = (12, 8),\n",
    "                            legend = False, linewidth = 2)\n",
    "\n",
    "    plt.xlabel('Normalized Importance', size = 18); plt.ylabel(''); \n",
    "    plt.title(f'{n} Most Important Features', size = 18)\n",
    "    plt.gca().invert_yaxis()\n",
    "    \n",
    "    \n",
    "    if threshold:\n",
    "        # Cumulative importance plot\n",
    "        plt.figure(figsize = (8, 6))\n",
    "        plt.plot(list(range(len(df))), df['cumulative_importance'], 'b-')\n",
    "        plt.xlabel('Number of Features', size = 16); plt.ylabel('Cumulative Importance', size = 16); \n",
    "        plt.title('Cumulative Feature Importance', size = 18);\n",
    "        \n",
    "        # Number of features needed for threshold cumulative importance\n",
    "        # This is the index (will need to add 1 for the actual number)\n",
    "        importance_index = np.min(np.where(df['cumulative_importance'] > threshold))\n",
    "        \n",
    "        # Add vertical line to plot\n",
    "        plt.vlines(importance_index + 1, ymin = 0, ymax = 1.05, linestyles = '--', colors = 'red')\n",
    "        plt.show();\n",
    "        \n",
    "        print('{} features required for {:.0f}% of cumulative importance.'.format(importance_index + 1, \n",
    "                                                                                  100 * threshold))\n",
    "    \n",
    "    return df"
   ]
  },
  {
   "cell_type": "code",
   "execution_count": 46,
   "metadata": {},
   "outputs": [
    {
     "data": {
      "image/png": "[encoded data removed]",
      "text/plain": [
       "<Figure size 864x576 with 1 Axes>"
      ]
     },
     "metadata": {},
     "output_type": "display_data"
    },
    {
     "data": {
      "image/png": "[encoded data removed]",
      "text/plain": [
       "<Figure size 576x432 with 1 Axes>"
      ]
     },
     "metadata": {},
     "output_type": "display_data"
    },
    {
     "name": "stdout",
     "output_type": "stream",
     "text": [
      "106 features required for 95% of cumulative importance.\n"
     ]
    }
   ],
   "source": [
    "#https://www.kaggle.com/willkoehrsen/a-complete-introduction-and-walkthrough\n",
    "norm_fi = plot_feature_importances(feature_importances, threshold=0.95)"
   ]
  },
  {
   "cell_type": "code",
   "execution_count": 47,
   "metadata": {},
   "outputs": [
    {
     "name": "stdout",
     "output_type": "stream",
     "text": [
      "              precision    recall  f1-score   support\n",
      "\n",
      "           1       0.85      0.97      0.91       144\n",
      "           2       0.91      0.93      0.92       303\n",
      "           3       0.89      0.93      0.91       208\n",
      "           4       1.00      0.97      0.98      1257\n",
      "\n",
      "   micro avg       0.96      0.96      0.96      1912\n",
      "   macro avg       0.91      0.95      0.93      1912\n",
      "weighted avg       0.96      0.96      0.96      1912\n",
      "\n"
     ]
    }
   ],
   "source": [
    "#Precision, recall, and other metrics.\n",
    "print(metrics.classification_report(y_pred, y_test))"
   ]
  },
  {
   "cell_type": "code",
   "execution_count": 48,
   "metadata": {},
   "outputs": [
    {
     "data": {
      "image/png": "[encoded data removed]",
      "text/plain": [
       "<Figure size 432x288 with 1 Axes>"
      ]
     },
     "metadata": {},
     "output_type": "display_data"
    }
   ],
   "source": [
    "#Visualizing the confusion matrix for our model\n",
    "mat = confusion_matrix(y_test, y_pred)\n",
    "sns.heatmap(mat.T, square=True, annot=True, fmt='d', cbar=False)\n",
    "plt.xlabel('true label')\n",
    "plt.ylabel('predicted label');"
   ]
  },
  {
   "cell_type": "code",
   "execution_count": 23,
   "metadata": {},
   "outputs": [],
   "source": [
    "#Dropping the target column for identifying the features to use in prediction\n",
    "\n",
    "df_train_2 = df_train_1.drop(['Target'], axis=1)\n",
    "features = df_train_2.columns"
   ]
  },
  {
   "cell_type": "code",
   "execution_count": 28,
   "metadata": {},
   "outputs": [],
   "source": [
    "#Let's create a visualiztion of a single tree from the forest\n",
    "#https://towardsdatascience.com/how-to-visualize-a-decision-tree-from-a-random-forest-in-python-using-scikit-learn-38ad2d75f21c\n",
    "# Extract single tree\n",
    "estimator = classifier.estimators_[7]\n",
    "\n",
    "export_graphviz(estimator, out_file='..path\\\\to\\\\singrftree.dot', \n",
    "                feature_names = features,\n",
    "                class_names = [\"1\", \"2\", \"3\", \"4\"],\n",
    "                rounded = True, proportion = False, \n",
    "                precision = 2, filled = True)"
   ]
  },
  {
   "cell_type": "code",
   "execution_count": 32,
   "metadata": {},
   "outputs": [],
   "source": [
    "# I used the following command from anaconda prompt to convert the dot file to a png\n",
    "\n",
    "#dot -Tpng B:\\kaggle_cr\\singrftree.dot -o B:\\kaggle_cr\\singrftree.png"
   ]
  },
  {
   "cell_type": "code",
   "execution_count": 33,
   "metadata": {},
   "outputs": [],
   "source": [
    "#The tree is a little large. However, the png image can be useful for exploration of branches"
   ]
  },
  {
   "cell_type": "code",
   "execution_count": 43,
   "metadata": {},
   "outputs": [
    {
     "data": {
      "text/plain": [
       "array([4, 4, 4, ..., 4, 4, 4], dtype=int64)"
      ]
     },
     "execution_count": 43,
     "metadata": {},
     "output_type": "execute_result"
    }
   ],
   "source": [
    "#Let's make some predictions\n",
    "\n",
    "sample_pred = classifier.predict(df_test[features])\n",
    "sample_pred"
   ]
  },
  {
   "cell_type": "code",
   "execution_count": 44,
   "metadata": {},
   "outputs": [],
   "source": [
    "df = pd.DataFrame(sample_pred)"
   ]
  },
  {
   "cell_type": "code",
   "execution_count": 45,
   "metadata": {},
   "outputs": [],
   "source": [
    "df_test['Target'] = df"
   ]
  },
  {
   "cell_type": "code",
   "execution_count": 46,
   "metadata": {},
   "outputs": [],
   "source": [
    "df_final = df_test[['Id', 'Target']]"
   ]
  },
  {
   "cell_type": "code",
   "execution_count": 47,
   "metadata": {},
   "outputs": [],
   "source": [
    "df_final.to_csv(\"B:\\\\kaggle_cr\\\\submit_rf3.csv\", index = False)"
   ]
  },
  {
   "cell_type": "markdown",
   "metadata": {},
   "source": [
    "## Decision Tree"
   ]
  },
  {
   "cell_type": "code",
   "execution_count": 39,
   "metadata": {},
   "outputs": [
    {
     "name": "stdout",
     "output_type": "stream",
     "text": [
      "Parameters currently in use:\n",
      "\n",
      "{'class_weight': None,\n",
      " 'criterion': 'gini',\n",
      " 'max_depth': None,\n",
      " 'max_features': None,\n",
      " 'max_leaf_nodes': None,\n",
      " 'min_impurity_decrease': 0.0,\n",
      " 'min_impurity_split': None,\n",
      " 'min_samples_leaf': 1,\n",
      " 'min_samples_split': 2,\n",
      " 'min_weight_fraction_leaf': 0.0,\n",
      " 'presort': False,\n",
      " 'random_state': 321,\n",
      " 'splitter': 'best'}\n"
     ]
    }
   ],
   "source": [
    "# Building a model\n",
    "dt_classifier = DecisionTreeClassifier(random_state=321)  \n",
    "\n",
    "#Let's see all of our parameters\n",
    "print('Parameters currently in use:\\n')\n",
    "pprint(dt_classifier.get_params())"
   ]
  },
  {
   "cell_type": "code",
   "execution_count": 45,
   "metadata": {},
   "outputs": [
    {
     "name": "stdout",
     "output_type": "stream",
     "text": [
      "{'max_depth': [10, 24, 38, 52, 66, 80, 94, 108, 122, 136, 150, None],\n",
      " 'max_features': ['auto', 'sqrt', 'log2'],\n",
      " 'min_samples_leaf': [1, 2, 4],\n",
      " 'min_samples_split': [2, 3, 5, 10],\n",
      " 'presort': [True, False]}\n"
     ]
    }
   ],
   "source": [
    "# Number of features to consider at every split\n",
    "max_features = ['auto', 'sqrt', 'log2']\n",
    "# Maximum number of levels in tree\n",
    "max_depth = [int(x) for x in np.linspace(10, 150, num = 11)]\n",
    "max_depth.append(None)\n",
    "# Minimum number of samples required to split a node\n",
    "min_samples_split = [2, 3, 5, 10]\n",
    "# Minimum number of samples required at each leaf node\n",
    "min_samples_leaf = [1, 2, 4]\n",
    "# presort method.\n",
    "presort = [True, False]\n",
    "# Create the random grid\n",
    "random_grid = {'max_features': max_features,\n",
    "               'max_depth': max_depth,\n",
    "               'min_samples_split': min_samples_split,\n",
    "               'min_samples_leaf': min_samples_leaf,\n",
    "               'presort': presort}\n",
    "pprint(random_grid)"
   ]
  },
  {
   "cell_type": "code",
   "execution_count": 46,
   "metadata": {},
   "outputs": [],
   "source": [
    "dt = DecisionTreeClassifier(random_state=321)\n",
    "\n",
    "dt_random = RandomizedSearchCV(estimator = dt, param_distributions = random_grid, n_iter = 150, cv = 4, verbose=2, random_state=321, n_jobs = -1)"
   ]
  },
  {
   "cell_type": "code",
   "execution_count": 47,
   "metadata": {},
   "outputs": [
    {
     "name": "stdout",
     "output_type": "stream",
     "text": [
      "Fitting 4 folds for each of 150 candidates, totalling 600 fits\n"
     ]
    },
    {
     "name": "stderr",
     "output_type": "stream",
     "text": [
      "[Parallel(n_jobs=-1)]: Using backend LokyBackend with 8 concurrent workers.\n",
      "[Parallel(n_jobs=-1)]: Done  25 tasks      | elapsed:    3.3s\n",
      "[Parallel(n_jobs=-1)]: Done 146 tasks      | elapsed:    5.8s\n",
      "[Parallel(n_jobs=-1)]: Done 349 tasks      | elapsed:   10.2s\n",
      "[Parallel(n_jobs=-1)]: Done 600 out of 600 | elapsed:   15.7s finished\n"
     ]
    },
    {
     "data": {
      "text/plain": [
       "RandomizedSearchCV(cv=4, error_score='raise-deprecating',\n",
       "          estimator=DecisionTreeClassifier(class_weight=None, criterion='gini', max_depth=None,\n",
       "            max_features=None, max_leaf_nodes=None,\n",
       "            min_impurity_decrease=0.0, min_impurity_split=None,\n",
       "            min_samples_leaf=1, min_samples_split=2,\n",
       "            min_weight_fraction_leaf=0.0, presort=False, random_state=321,\n",
       "            splitter='best'),\n",
       "          fit_params=None, iid='warn', n_iter=150, n_jobs=-1,\n",
       "          param_distributions={'max_features': ['auto', 'sqrt', 'log2'], 'max_depth': [10, 24, 38, 52, 66, 80, 94, 108, 122, 136, 150, None], 'min_samples_split': [2, 3, 5, 10], 'min_samples_leaf': [1, 2, 4], 'presort': [True, False]},\n",
       "          pre_dispatch='2*n_jobs', random_state=321, refit=True,\n",
       "          return_train_score='warn', scoring=None, verbose=2)"
      ]
     },
     "execution_count": 47,
     "metadata": {},
     "output_type": "execute_result"
    }
   ],
   "source": [
    "dt_random.fit(X_train, y_train)  "
   ]
  },
  {
   "cell_type": "code",
   "execution_count": 48,
   "metadata": {},
   "outputs": [
    {
     "name": "stdout",
     "output_type": "stream",
     "text": [
      "Accuracy is  86.71548117154812\n",
      "Macro F1 Score is  0.7963619453132181\n",
      "Weighted F1 Score is  0.8665370563520997\n"
     ]
    }
   ],
   "source": [
    "y_pred = dt_random.predict(X_test)\n",
    "print(\"Accuracy is \", accuracy_score(y_test,y_pred)*100)\n",
    "print(\"Macro F1 Score is \", f1_score(y_test,y_pred, average ='macro'))\n",
    "print(\"Weighted F1 Score is \", f1_score(y_test,y_pred, average ='weighted'))"
   ]
  },
  {
   "cell_type": "code",
   "execution_count": 54,
   "metadata": {},
   "outputs": [
    {
     "data": {
      "text/plain": [
       "{'presort': True,\n",
       " 'min_samples_split': 2,\n",
       " 'min_samples_leaf': 1,\n",
       " 'max_features': 'log2',\n",
       " 'max_depth': 94}"
      ]
     },
     "execution_count": 54,
     "metadata": {},
     "output_type": "execute_result"
    }
   ],
   "source": [
    "dt_random.best_params_"
   ]
  },
  {
   "cell_type": "code",
   "execution_count": 56,
   "metadata": {},
   "outputs": [],
   "source": [
    "classifier = DecisionTreeClassifier(presort=True,\n",
    "                                    min_samples_split=2,\n",
    "                                    min_samples_leaf = 1,\n",
    "                                    max_features='log2',\n",
    "                                    max_depth = 94,\n",
    "                                    random_state=321)"
   ]
  },
  {
   "cell_type": "code",
   "execution_count": 57,
   "metadata": {},
   "outputs": [
    {
     "data": {
      "text/plain": [
       "DecisionTreeClassifier(class_weight=None, criterion='gini', max_depth=94,\n",
       "            max_features='log2', max_leaf_nodes=None,\n",
       "            min_impurity_decrease=0.0, min_impurity_split=None,\n",
       "            min_samples_leaf=1, min_samples_split=2,\n",
       "            min_weight_fraction_leaf=0.0, presort=True, random_state=321,\n",
       "            splitter='best')"
      ]
     },
     "execution_count": 57,
     "metadata": {},
     "output_type": "execute_result"
    }
   ],
   "source": [
    "classifier.fit(X_train, y_train)  "
   ]
  },
  {
   "cell_type": "code",
   "execution_count": 58,
   "metadata": {},
   "outputs": [
    {
     "name": "stdout",
     "output_type": "stream",
     "text": [
      "Accuracy is  86.71548117154812\n",
      "Macro F1 Score is  0.7963619453132181\n",
      "Weighted F1 Score is  0.8665370563520997\n"
     ]
    }
   ],
   "source": [
    "y_pred = classifier.predict(X_test)\n",
    "print(\"Accuracy is \", accuracy_score(y_test,y_pred)*100)\n",
    "print(\"Macro F1 Score is \", f1_score(y_test,y_pred, average ='macro'))\n",
    "print(\"Weighted F1 Score is \", f1_score(y_test,y_pred, average ='weighted'))"
   ]
  },
  {
   "cell_type": "code",
   "execution_count": 59,
   "metadata": {},
   "outputs": [
    {
     "data": {
      "text/html": [
       "<div>\n",
       "<style scoped>\n",
       "    .dataframe tbody tr th:only-of-type {\n",
       "        vertical-align: middle;\n",
       "    }\n",
       "\n",
       "    .dataframe tbody tr th {\n",
       "        vertical-align: top;\n",
       "    }\n",
       "\n",
       "    .dataframe thead th {\n",
       "        text-align: right;\n",
       "    }\n",
       "</style>\n",
       "<table border=\"1\" class=\"dataframe\">\n",
       "  <thead>\n",
       "    <tr style=\"text-align: right;\">\n",
       "      <th></th>\n",
       "      <th>feature</th>\n",
       "      <th>importance</th>\n",
       "    </tr>\n",
       "  </thead>\n",
       "  <tbody>\n",
       "    <tr>\n",
       "      <th>0</th>\n",
       "      <td>v2a1</td>\n",
       "      <td>0.011495</td>\n",
       "    </tr>\n",
       "    <tr>\n",
       "      <th>1</th>\n",
       "      <td>hacdor</td>\n",
       "      <td>0.001801</td>\n",
       "    </tr>\n",
       "    <tr>\n",
       "      <th>2</th>\n",
       "      <td>rooms</td>\n",
       "      <td>0.012355</td>\n",
       "    </tr>\n",
       "    <tr>\n",
       "      <th>3</th>\n",
       "      <td>hacapo</td>\n",
       "      <td>0.000000</td>\n",
       "    </tr>\n",
       "    <tr>\n",
       "      <th>4</th>\n",
       "      <td>v14a</td>\n",
       "      <td>0.000375</td>\n",
       "    </tr>\n",
       "  </tbody>\n",
       "</table>\n",
       "</div>"
      ],
      "text/plain": [
       "  feature  importance\n",
       "0    v2a1    0.011495\n",
       "1  hacdor    0.001801\n",
       "2   rooms    0.012355\n",
       "3  hacapo    0.000000\n",
       "4    v14a    0.000375"
      ]
     },
     "execution_count": 59,
     "metadata": {},
     "output_type": "execute_result"
    }
   ],
   "source": [
    "feature_importances = pd.DataFrame({'feature': X_train.columns, 'importance': classifier.feature_importances_})\n",
    "feature_importances.head()"
   ]
  },
  {
   "cell_type": "code",
   "execution_count": 62,
   "metadata": {},
   "outputs": [
    {
     "data": {
      "image/png": "[encoded data removed]",
      "text/plain": [
       "<Figure size 864x576 with 1 Axes>"
      ]
     },
     "metadata": {},
     "output_type": "display_data"
    },
    {
     "data": {
      "image/png": "[encoded data removed]",
      "text/plain": [
       "<Figure size 576x432 with 1 Axes>"
      ]
     },
     "metadata": {},
     "output_type": "display_data"
    },
    {
     "name": "stdout",
     "output_type": "stream",
     "text": [
      "104 features required for 95% of cumulative importance.\n"
     ]
    }
   ],
   "source": [
    "norm_fi = plot_feature_importances(feature_importances, threshold=0.95)"
   ]
  },
  {
   "cell_type": "code",
   "execution_count": 63,
   "metadata": {},
   "outputs": [
    {
     "name": "stdout",
     "output_type": "stream",
     "text": [
      "              precision    recall  f1-score   support\n",
      "\n",
      "           1       0.73      0.73      0.73       139\n",
      "           2       0.77      0.79      0.78       315\n",
      "           3       0.73      0.75      0.74       242\n",
      "           4       0.94      0.93      0.93      1216\n",
      "\n",
      "   micro avg       0.87      0.87      0.87      1912\n",
      "   macro avg       0.79      0.80      0.80      1912\n",
      "weighted avg       0.87      0.87      0.87      1912\n",
      "\n"
     ]
    }
   ],
   "source": [
    "#Precision, recall, and other metrics.\n",
    "print(metrics.classification_report(y_pred, y_test))"
   ]
  },
  {
   "cell_type": "code",
   "execution_count": 64,
   "metadata": {},
   "outputs": [
    {
     "data": {
      "image/png": "[encoded data removed]",
      "text/plain": [
       "<Figure size 432x288 with 1 Axes>"
      ]
     },
     "metadata": {},
     "output_type": "display_data"
    }
   ],
   "source": [
    "#Visualizing the confusion matrix for our model\n",
    "mat = confusion_matrix(y_test, y_pred)\n",
    "sns.heatmap(mat.T, square=True, annot=True, fmt='d', cbar=False)\n",
    "plt.xlabel('true label')\n",
    "plt.ylabel('predicted label');"
   ]
  },
  {
   "cell_type": "code",
   "execution_count": 65,
   "metadata": {},
   "outputs": [],
   "source": [
    "#creating an image for our tree\n",
    "export_graphviz(classifier, out_file='..path\\\\to\\\\dtree.dot', \n",
    "                feature_names = features,\n",
    "                class_names = [\"1\", \"2\", \"3\", \"4\"],\n",
    "                rounded = True, proportion = False, \n",
    "                precision = 2, filled = True)"
   ]
  },
  {
   "cell_type": "code",
   "execution_count": null,
   "metadata": {},
   "outputs": [],
   "source": [
    "## I used the following command from anaconda prompt to convert the dot file to a png\n",
    "\n",
    "#dot -Tpng ..path\\\\to\\\\dtree.dot -o ..path\\\\to\\\\dtree.png"
   ]
  },
  {
   "cell_type": "markdown",
   "metadata": {},
   "source": [
    "## As evidenced above, the tuned random forest model performs much better (in most metrics) than the single decision tree model. This is expected.\n",
    "\n",
    "## However, there are interesting disparities between the two models; the eviv3 variable appears as the most important variable in the decision tree model. Due to the relative non-importance of eviv3 in the RF model, it is odd that eviv3 would appear as most important in the DT. The variability of important features could explain the severe metrics dropoff experienced by the DT model."
   ]
  }
 ],
 "metadata": {
  "kernelspec": {
   "display_name": "Python 3",
   "language": "python",
   "name": "python3"
  },
  "language_info": {
   "codemirror_mode": {
    "name": "ipython",
    "version": 3
   },
   "file_extension": ".py",
   "mimetype": "text/x-python",
   "name": "python",
   "nbconvert_exporter": "python",
   "pygments_lexer": "ipython3",
   "version": "3.6.5"
  }
 },
 "nbformat": 4,
 "nbformat_minor": 2
}
